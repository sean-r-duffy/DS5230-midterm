{
 "cells": [
  {
   "cell_type": "code",
   "execution_count": 72,
   "metadata": {},
   "outputs": [],
   "source": [
    "import numpy as np\n",
    "import pandas as pd\n",
    "import seaborn as sns\n",
    "from sklearn.preprocessing import StandardScaler, normalize\n",
    "from sklearn.metrics import silhouette_score, silhouette_samples, jaccard_score\n",
    "from sklearn.cluster import KMeans, AgglomerativeClustering\n",
    "from load_data import load\n",
    "from clean_data import clean, model_features"
   ]
  },
  {
   "cell_type": "code",
   "execution_count": 2,
   "metadata": {},
   "outputs": [],
   "source": [
    "df = load()\n",
    "metro_df = clean(df, region_type='metro')\n",
    "df = clean(df, region_type='county')"
   ]
  },
  {
   "cell_type": "markdown",
   "metadata": {},
   "source": [
    "Removing Suffolk County, NY (consistently put in a cluster of it's own)"
   ]
  },
  {
   "cell_type": "code",
   "execution_count": 15,
   "metadata": {},
   "outputs": [
    {
     "data": {
      "text/html": [
       "<div>\n",
       "<style scoped>\n",
       "    .dataframe tbody tr th:only-of-type {\n",
       "        vertical-align: middle;\n",
       "    }\n",
       "\n",
       "    .dataframe tbody tr th {\n",
       "        vertical-align: top;\n",
       "    }\n",
       "\n",
       "    .dataframe thead th {\n",
       "        text-align: right;\n",
       "    }\n",
       "</style>\n",
       "<table border=\"1\" class=\"dataframe\">\n",
       "  <thead>\n",
       "    <tr style=\"text-align: right;\">\n",
       "      <th></th>\n",
       "      <th>State</th>\n",
       "      <th>CountyName</th>\n",
       "      <th>ZHVI 2003</th>\n",
       "      <th>ZHVI 2008</th>\n",
       "      <th>ZHVI 2013</th>\n",
       "      <th>ZHVI 2018</th>\n",
       "      <th>ZHVI 2019</th>\n",
       "      <th>ZHVI 2020</th>\n",
       "      <th>ZHVI 2021</th>\n",
       "      <th>ZHVI 2022</th>\n",
       "      <th>...</th>\n",
       "      <th>3yr pct change Sales</th>\n",
       "      <th>1yr pct change Sale Listings</th>\n",
       "      <th>2yr pct change Sale Listings</th>\n",
       "      <th>3yr pct change Sale Listings</th>\n",
       "      <th>1yr pct change Days on Market</th>\n",
       "      <th>2yr pct change Days on Market</th>\n",
       "      <th>3yr pct change Days on Market</th>\n",
       "      <th>1yr pct change New Construction</th>\n",
       "      <th>2yr pct change New Construction</th>\n",
       "      <th>3yr pct change New Construction</th>\n",
       "    </tr>\n",
       "  </thead>\n",
       "  <tbody>\n",
       "    <tr>\n",
       "      <th>1401</th>\n",
       "      <td>NY</td>\n",
       "      <td>Suffolk County</td>\n",
       "      <td>405419.262013</td>\n",
       "      <td>562863.586888</td>\n",
       "      <td>496172.666296</td>\n",
       "      <td>613543.137244</td>\n",
       "      <td>663034.732183</td>\n",
       "      <td>674860.922828</td>\n",
       "      <td>778456.251263</td>\n",
       "      <td>889187.331637</td>\n",
       "      <td>...</td>\n",
       "      <td>-0.290151</td>\n",
       "      <td>-0.203355</td>\n",
       "      <td>-0.333615</td>\n",
       "      <td>-0.419731</td>\n",
       "      <td>0.055874</td>\n",
       "      <td>-0.088999</td>\n",
       "      <td>-0.262262</td>\n",
       "      <td>-0.253428</td>\n",
       "      <td>-0.35957</td>\n",
       "      <td>-0.338831</td>\n",
       "    </tr>\n",
       "  </tbody>\n",
       "</table>\n",
       "<p>1 rows × 72 columns</p>\n",
       "</div>"
      ],
      "text/plain": [
       "     State      CountyName      ZHVI 2003      ZHVI 2008      ZHVI 2013  \\\n",
       "1401    NY  Suffolk County  405419.262013  562863.586888  496172.666296   \n",
       "\n",
       "          ZHVI 2018      ZHVI 2019      ZHVI 2020      ZHVI 2021  \\\n",
       "1401  613543.137244  663034.732183  674860.922828  778456.251263   \n",
       "\n",
       "          ZHVI 2022  ...  3yr pct change Sales  1yr pct change Sale Listings  \\\n",
       "1401  889187.331637  ...             -0.290151                     -0.203355   \n",
       "\n",
       "      2yr pct change Sale Listings  3yr pct change Sale Listings  \\\n",
       "1401                     -0.333615                     -0.419731   \n",
       "\n",
       "      1yr pct change Days on Market  2yr pct change Days on Market  \\\n",
       "1401                       0.055874                      -0.088999   \n",
       "\n",
       "      3yr pct change Days on Market  1yr pct change New Construction  \\\n",
       "1401                      -0.262262                        -0.253428   \n",
       "\n",
       "      2yr pct change New Construction  3yr pct change New Construction  \n",
       "1401                         -0.35957                        -0.338831  \n",
       "\n",
       "[1 rows x 72 columns]"
      ]
     },
     "execution_count": 15,
     "metadata": {},
     "output_type": "execute_result"
    }
   ],
   "source": [
    "df[(df['CountyName']=='Suffolk County')&(df['State']=='NY')]"
   ]
  },
  {
   "cell_type": "code",
   "execution_count": 16,
   "metadata": {},
   "outputs": [],
   "source": [
    "df = df.drop(1401)"
   ]
  },
  {
   "cell_type": "code",
   "execution_count": 17,
   "metadata": {},
   "outputs": [],
   "source": [
    "sel_feat = model_features(df).dropna()\n",
    "met_sel_feat = model_features(metro_df).dropna()"
   ]
  },
  {
   "cell_type": "code",
   "execution_count": 18,
   "metadata": {},
   "outputs": [
    {
     "data": {
      "text/html": [
       "<div>\n",
       "<style scoped>\n",
       "    .dataframe tbody tr th:only-of-type {\n",
       "        vertical-align: middle;\n",
       "    }\n",
       "\n",
       "    .dataframe tbody tr th {\n",
       "        vertical-align: top;\n",
       "    }\n",
       "\n",
       "    .dataframe thead th {\n",
       "        text-align: right;\n",
       "    }\n",
       "</style>\n",
       "<table border=\"1\" class=\"dataframe\">\n",
       "  <thead>\n",
       "    <tr style=\"text-align: right;\">\n",
       "      <th></th>\n",
       "      <th>State</th>\n",
       "      <th>CountyName</th>\n",
       "      <th>ZHVI 2003</th>\n",
       "      <th>ZHVI 2008</th>\n",
       "      <th>ZHVI 2013</th>\n",
       "      <th>ZHVI 2018</th>\n",
       "      <th>ZHVI 2019</th>\n",
       "      <th>ZHVI 2020</th>\n",
       "      <th>ZHVI 2021</th>\n",
       "      <th>ZHVI 2022</th>\n",
       "      <th>...</th>\n",
       "      <th>3yr pct change Sales</th>\n",
       "      <th>1yr pct change Sale Listings</th>\n",
       "      <th>2yr pct change Sale Listings</th>\n",
       "      <th>3yr pct change Sale Listings</th>\n",
       "      <th>1yr pct change Days on Market</th>\n",
       "      <th>2yr pct change Days on Market</th>\n",
       "      <th>3yr pct change Days on Market</th>\n",
       "      <th>1yr pct change New Construction</th>\n",
       "      <th>2yr pct change New Construction</th>\n",
       "      <th>3yr pct change New Construction</th>\n",
       "    </tr>\n",
       "  </thead>\n",
       "  <tbody>\n",
       "    <tr>\n",
       "      <th>0</th>\n",
       "      <td>SC</td>\n",
       "      <td>Abbeville County</td>\n",
       "      <td>60962.964057</td>\n",
       "      <td>79438.651898</td>\n",
       "      <td>74629.289666</td>\n",
       "      <td>101247.210123</td>\n",
       "      <td>105677.886596</td>\n",
       "      <td>115845.025873</td>\n",
       "      <td>140619.655294</td>\n",
       "      <td>162451.845663</td>\n",
       "      <td>...</td>\n",
       "      <td>NaN</td>\n",
       "      <td>0.035337</td>\n",
       "      <td>-0.021664</td>\n",
       "      <td>-0.314002</td>\n",
       "      <td>0.557483</td>\n",
       "      <td>0.253440</td>\n",
       "      <td>-0.399266</td>\n",
       "      <td>0.001354</td>\n",
       "      <td>0.173734</td>\n",
       "      <td>0.730914</td>\n",
       "    </tr>\n",
       "    <tr>\n",
       "      <th>1</th>\n",
       "      <td>VA</td>\n",
       "      <td>Accomack County</td>\n",
       "      <td>NaN</td>\n",
       "      <td>NaN</td>\n",
       "      <td>NaN</td>\n",
       "      <td>148994.108961</td>\n",
       "      <td>150579.892495</td>\n",
       "      <td>162239.538138</td>\n",
       "      <td>187085.016104</td>\n",
       "      <td>201765.598498</td>\n",
       "      <td>...</td>\n",
       "      <td>NaN</td>\n",
       "      <td>-0.111236</td>\n",
       "      <td>-0.215472</td>\n",
       "      <td>-0.419259</td>\n",
       "      <td>0.167708</td>\n",
       "      <td>-0.021481</td>\n",
       "      <td>-0.518827</td>\n",
       "      <td>-0.005541</td>\n",
       "      <td>-0.059307</td>\n",
       "      <td>1.007198</td>\n",
       "    </tr>\n",
       "    <tr>\n",
       "      <th>2</th>\n",
       "      <td>ID</td>\n",
       "      <td>Ada County</td>\n",
       "      <td>162333.630363</td>\n",
       "      <td>230910.249611</td>\n",
       "      <td>197273.939126</td>\n",
       "      <td>301233.694892</td>\n",
       "      <td>337018.459037</td>\n",
       "      <td>380146.143065</td>\n",
       "      <td>517107.331426</td>\n",
       "      <td>572448.199052</td>\n",
       "      <td>...</td>\n",
       "      <td>-0.440906</td>\n",
       "      <td>-0.144142</td>\n",
       "      <td>0.070952</td>\n",
       "      <td>-0.254190</td>\n",
       "      <td>0.515759</td>\n",
       "      <td>1.507109</td>\n",
       "      <td>0.546784</td>\n",
       "      <td>-0.100299</td>\n",
       "      <td>-0.211189</td>\n",
       "      <td>0.130827</td>\n",
       "    </tr>\n",
       "    <tr>\n",
       "      <th>3</th>\n",
       "      <td>IA</td>\n",
       "      <td>Adair County</td>\n",
       "      <td>NaN</td>\n",
       "      <td>84680.840003</td>\n",
       "      <td>92547.839713</td>\n",
       "      <td>125268.529532</td>\n",
       "      <td>126379.939725</td>\n",
       "      <td>134099.529170</td>\n",
       "      <td>152937.435980</td>\n",
       "      <td>174119.483633</td>\n",
       "      <td>...</td>\n",
       "      <td>NaN</td>\n",
       "      <td>-0.122256</td>\n",
       "      <td>-0.137794</td>\n",
       "      <td>-0.292052</td>\n",
       "      <td>0.233359</td>\n",
       "      <td>0.024885</td>\n",
       "      <td>-0.442576</td>\n",
       "      <td>-0.208611</td>\n",
       "      <td>-0.292660</td>\n",
       "      <td>-0.107234</td>\n",
       "    </tr>\n",
       "    <tr>\n",
       "      <th>4</th>\n",
       "      <td>KY</td>\n",
       "      <td>Adair County</td>\n",
       "      <td>NaN</td>\n",
       "      <td>NaN</td>\n",
       "      <td>NaN</td>\n",
       "      <td>77743.698930</td>\n",
       "      <td>78161.889840</td>\n",
       "      <td>84777.070068</td>\n",
       "      <td>101102.746350</td>\n",
       "      <td>120672.335816</td>\n",
       "      <td>...</td>\n",
       "      <td>-0.309034</td>\n",
       "      <td>-0.053870</td>\n",
       "      <td>0.010147</td>\n",
       "      <td>-0.108652</td>\n",
       "      <td>0.408762</td>\n",
       "      <td>0.501380</td>\n",
       "      <td>-0.308473</td>\n",
       "      <td>0.017627</td>\n",
       "      <td>0.648889</td>\n",
       "      <td>0.455426</td>\n",
       "    </tr>\n",
       "  </tbody>\n",
       "</table>\n",
       "<p>5 rows × 72 columns</p>\n",
       "</div>"
      ],
      "text/plain": [
       "  State        CountyName      ZHVI 2003      ZHVI 2008      ZHVI 2013  \\\n",
       "0    SC  Abbeville County   60962.964057   79438.651898   74629.289666   \n",
       "1    VA   Accomack County            NaN            NaN            NaN   \n",
       "2    ID        Ada County  162333.630363  230910.249611  197273.939126   \n",
       "3    IA      Adair County            NaN   84680.840003   92547.839713   \n",
       "4    KY      Adair County            NaN            NaN            NaN   \n",
       "\n",
       "       ZHVI 2018      ZHVI 2019      ZHVI 2020      ZHVI 2021      ZHVI 2022  \\\n",
       "0  101247.210123  105677.886596  115845.025873  140619.655294  162451.845663   \n",
       "1  148994.108961  150579.892495  162239.538138  187085.016104  201765.598498   \n",
       "2  301233.694892  337018.459037  380146.143065  517107.331426  572448.199052   \n",
       "3  125268.529532  126379.939725  134099.529170  152937.435980  174119.483633   \n",
       "4   77743.698930   78161.889840   84777.070068  101102.746350  120672.335816   \n",
       "\n",
       "   ...  3yr pct change Sales  1yr pct change Sale Listings  \\\n",
       "0  ...                   NaN                      0.035337   \n",
       "1  ...                   NaN                     -0.111236   \n",
       "2  ...             -0.440906                     -0.144142   \n",
       "3  ...                   NaN                     -0.122256   \n",
       "4  ...             -0.309034                     -0.053870   \n",
       "\n",
       "   2yr pct change Sale Listings  3yr pct change Sale Listings  \\\n",
       "0                     -0.021664                     -0.314002   \n",
       "1                     -0.215472                     -0.419259   \n",
       "2                      0.070952                     -0.254190   \n",
       "3                     -0.137794                     -0.292052   \n",
       "4                      0.010147                     -0.108652   \n",
       "\n",
       "   1yr pct change Days on Market  2yr pct change Days on Market  \\\n",
       "0                       0.557483                       0.253440   \n",
       "1                       0.167708                      -0.021481   \n",
       "2                       0.515759                       1.507109   \n",
       "3                       0.233359                       0.024885   \n",
       "4                       0.408762                       0.501380   \n",
       "\n",
       "   3yr pct change Days on Market  1yr pct change New Construction  \\\n",
       "0                      -0.399266                         0.001354   \n",
       "1                      -0.518827                        -0.005541   \n",
       "2                       0.546784                        -0.100299   \n",
       "3                      -0.442576                        -0.208611   \n",
       "4                      -0.308473                         0.017627   \n",
       "\n",
       "   2yr pct change New Construction  3yr pct change New Construction  \n",
       "0                         0.173734                         0.730914  \n",
       "1                        -0.059307                         1.007198  \n",
       "2                        -0.211189                         0.130827  \n",
       "3                        -0.292660                        -0.107234  \n",
       "4                         0.648889                         0.455426  \n",
       "\n",
       "[5 rows x 72 columns]"
      ]
     },
     "execution_count": 18,
     "metadata": {},
     "output_type": "execute_result"
    }
   ],
   "source": [
    "df.head(5)"
   ]
  },
  {
   "cell_type": "code",
   "execution_count": 19,
   "metadata": {},
   "outputs": [
    {
     "data": {
      "text/html": [
       "<div>\n",
       "<style scoped>\n",
       "    .dataframe tbody tr th:only-of-type {\n",
       "        vertical-align: middle;\n",
       "    }\n",
       "\n",
       "    .dataframe tbody tr th {\n",
       "        vertical-align: top;\n",
       "    }\n",
       "\n",
       "    .dataframe thead th {\n",
       "        text-align: right;\n",
       "    }\n",
       "</style>\n",
       "<table border=\"1\" class=\"dataframe\">\n",
       "  <thead>\n",
       "    <tr style=\"text-align: right;\">\n",
       "      <th></th>\n",
       "      <th>ZORI 2023</th>\n",
       "      <th>ZHVI 2023</th>\n",
       "      <th>ZHVF 2025-01-31</th>\n",
       "      <th>Transit Score</th>\n",
       "      <th>NatWalkInd</th>\n",
       "      <th>3yr pct change ZHVI</th>\n",
       "      <th>3yr pct change ZORI</th>\n",
       "      <th>3yr pct change Sale Listings</th>\n",
       "      <th>3yr pct change Sales</th>\n",
       "      <th>3yr pct change Days on Market</th>\n",
       "      <th>3yr pct change New Construction</th>\n",
       "    </tr>\n",
       "  </thead>\n",
       "  <tbody>\n",
       "    <tr>\n",
       "      <th>2</th>\n",
       "      <td>1840.726926</td>\n",
       "      <td>522272.920060</td>\n",
       "      <td>6.013333</td>\n",
       "      <td>0.400000</td>\n",
       "      <td>12.216963</td>\n",
       "      <td>0.372737</td>\n",
       "      <td>0.337240</td>\n",
       "      <td>-0.254190</td>\n",
       "      <td>-0.440906</td>\n",
       "      <td>0.546784</td>\n",
       "      <td>0.130827</td>\n",
       "    </tr>\n",
       "    <tr>\n",
       "      <th>6</th>\n",
       "      <td>2051.605328</td>\n",
       "      <td>495180.983498</td>\n",
       "      <td>2.846667</td>\n",
       "      <td>4.750000</td>\n",
       "      <td>12.038462</td>\n",
       "      <td>0.302465</td>\n",
       "      <td>0.225749</td>\n",
       "      <td>-0.120250</td>\n",
       "      <td>-0.360124</td>\n",
       "      <td>0.129032</td>\n",
       "      <td>-0.155183</td>\n",
       "    </tr>\n",
       "    <tr>\n",
       "      <th>15</th>\n",
       "      <td>1446.007783</td>\n",
       "      <td>282739.710381</td>\n",
       "      <td>2.993939</td>\n",
       "      <td>7.666667</td>\n",
       "      <td>11.404965</td>\n",
       "      <td>0.299237</td>\n",
       "      <td>0.234518</td>\n",
       "      <td>-0.115167</td>\n",
       "      <td>0.111924</td>\n",
       "      <td>-0.462555</td>\n",
       "      <td>0.102662</td>\n",
       "    </tr>\n",
       "    <tr>\n",
       "      <th>24</th>\n",
       "      <td>1364.071563</td>\n",
       "      <td>203652.265199</td>\n",
       "      <td>2.458511</td>\n",
       "      <td>7.581395</td>\n",
       "      <td>12.701061</td>\n",
       "      <td>0.236196</td>\n",
       "      <td>0.192319</td>\n",
       "      <td>-0.281206</td>\n",
       "      <td>-0.171427</td>\n",
       "      <td>-0.340299</td>\n",
       "      <td>-0.152812</td>\n",
       "    </tr>\n",
       "    <tr>\n",
       "      <th>34</th>\n",
       "      <td>2129.040983</td>\n",
       "      <td>589922.214874</td>\n",
       "      <td>1.761765</td>\n",
       "      <td>3.486667</td>\n",
       "      <td>9.288462</td>\n",
       "      <td>0.231499</td>\n",
       "      <td>0.220832</td>\n",
       "      <td>-0.393781</td>\n",
       "      <td>-0.279955</td>\n",
       "      <td>-0.441392</td>\n",
       "      <td>-0.226000</td>\n",
       "    </tr>\n",
       "  </tbody>\n",
       "</table>\n",
       "</div>"
      ],
      "text/plain": [
       "      ZORI 2023      ZHVI 2023  ZHVF 2025-01-31  Transit Score  NatWalkInd  \\\n",
       "2   1840.726926  522272.920060         6.013333       0.400000   12.216963   \n",
       "6   2051.605328  495180.983498         2.846667       4.750000   12.038462   \n",
       "15  1446.007783  282739.710381         2.993939       7.666667   11.404965   \n",
       "24  1364.071563  203652.265199         2.458511       7.581395   12.701061   \n",
       "34  2129.040983  589922.214874         1.761765       3.486667    9.288462   \n",
       "\n",
       "    3yr pct change ZHVI  3yr pct change ZORI  3yr pct change Sale Listings  \\\n",
       "2              0.372737             0.337240                     -0.254190   \n",
       "6              0.302465             0.225749                     -0.120250   \n",
       "15             0.299237             0.234518                     -0.115167   \n",
       "24             0.236196             0.192319                     -0.281206   \n",
       "34             0.231499             0.220832                     -0.393781   \n",
       "\n",
       "    3yr pct change Sales  3yr pct change Days on Market  \\\n",
       "2              -0.440906                       0.546784   \n",
       "6              -0.360124                       0.129032   \n",
       "15              0.111924                      -0.462555   \n",
       "24             -0.171427                      -0.340299   \n",
       "34             -0.279955                      -0.441392   \n",
       "\n",
       "    3yr pct change New Construction  \n",
       "2                          0.130827  \n",
       "6                         -0.155183  \n",
       "15                         0.102662  \n",
       "24                        -0.152812  \n",
       "34                        -0.226000  "
      ]
     },
     "execution_count": 19,
     "metadata": {},
     "output_type": "execute_result"
    }
   ],
   "source": [
    "sel_feat.head(5)"
   ]
  },
  {
   "cell_type": "code",
   "execution_count": 20,
   "metadata": {},
   "outputs": [
    {
     "name": "stdout",
     "output_type": "stream",
     "text": [
      "<class 'pandas.core.frame.DataFrame'>\n",
      "Index: 138 entries, 2 to 1560\n",
      "Data columns (total 11 columns):\n",
      " #   Column                           Non-Null Count  Dtype  \n",
      "---  ------                           --------------  -----  \n",
      " 0   ZORI 2023                        138 non-null    float64\n",
      " 1   ZHVI 2023                        138 non-null    float64\n",
      " 2   ZHVF 2025-01-31                  138 non-null    float64\n",
      " 3   Transit Score                    138 non-null    float64\n",
      " 4   NatWalkInd                       138 non-null    float64\n",
      " 5   3yr pct change ZHVI              138 non-null    float64\n",
      " 6   3yr pct change ZORI              138 non-null    float64\n",
      " 7   3yr pct change Sale Listings     138 non-null    float64\n",
      " 8   3yr pct change Sales             138 non-null    float64\n",
      " 9   3yr pct change Days on Market    138 non-null    float64\n",
      " 10  3yr pct change New Construction  138 non-null    float64\n",
      "dtypes: float64(11)\n",
      "memory usage: 12.9 KB\n"
     ]
    }
   ],
   "source": [
    "sel_feat.info()"
   ]
  },
  {
   "cell_type": "code",
   "execution_count": 21,
   "metadata": {},
   "outputs": [
    {
     "data": {
      "text/html": [
       "<div>\n",
       "<style scoped>\n",
       "    .dataframe tbody tr th:only-of-type {\n",
       "        vertical-align: middle;\n",
       "    }\n",
       "\n",
       "    .dataframe tbody tr th {\n",
       "        vertical-align: top;\n",
       "    }\n",
       "\n",
       "    .dataframe thead th {\n",
       "        text-align: right;\n",
       "    }\n",
       "</style>\n",
       "<table border=\"1\" class=\"dataframe\">\n",
       "  <thead>\n",
       "    <tr style=\"text-align: right;\">\n",
       "      <th></th>\n",
       "      <th>Metro</th>\n",
       "      <th>ZHVI 2003</th>\n",
       "      <th>ZHVI 2008</th>\n",
       "      <th>ZHVI 2013</th>\n",
       "      <th>ZHVI 2018</th>\n",
       "      <th>ZHVI 2019</th>\n",
       "      <th>ZHVI 2020</th>\n",
       "      <th>ZHVI 2021</th>\n",
       "      <th>ZHVI 2022</th>\n",
       "      <th>ZHVI 2023</th>\n",
       "      <th>...</th>\n",
       "      <th>3yr pct change Sales</th>\n",
       "      <th>1yr pct change Sale Listings</th>\n",
       "      <th>2yr pct change Sale Listings</th>\n",
       "      <th>3yr pct change Sale Listings</th>\n",
       "      <th>1yr pct change Days on Market</th>\n",
       "      <th>2yr pct change Days on Market</th>\n",
       "      <th>3yr pct change Days on Market</th>\n",
       "      <th>1yr pct change New Construction</th>\n",
       "      <th>2yr pct change New Construction</th>\n",
       "      <th>3yr pct change New Construction</th>\n",
       "    </tr>\n",
       "  </thead>\n",
       "  <tbody>\n",
       "    <tr>\n",
       "      <th>0</th>\n",
       "      <td>Akron, OH</td>\n",
       "      <td>132406.025613</td>\n",
       "      <td>138032.298044</td>\n",
       "      <td>119325.739327</td>\n",
       "      <td>145478.219083</td>\n",
       "      <td>153220.647431</td>\n",
       "      <td>162116.686062</td>\n",
       "      <td>184312.604016</td>\n",
       "      <td>202026.064127</td>\n",
       "      <td>210599.278112</td>\n",
       "      <td>...</td>\n",
       "      <td>-0.191732</td>\n",
       "      <td>-0.125733</td>\n",
       "      <td>-0.166561</td>\n",
       "      <td>-0.406540</td>\n",
       "      <td>0.227848</td>\n",
       "      <td>0.069853</td>\n",
       "      <td>-0.498276</td>\n",
       "      <td>-0.575820</td>\n",
       "      <td>-0.191406</td>\n",
       "      <td>0.101064</td>\n",
       "    </tr>\n",
       "    <tr>\n",
       "      <th>1</th>\n",
       "      <td>Albany-Schenectady-Troy, NY</td>\n",
       "      <td>123799.200965</td>\n",
       "      <td>182663.903262</td>\n",
       "      <td>170404.858799</td>\n",
       "      <td>192121.561367</td>\n",
       "      <td>198562.402767</td>\n",
       "      <td>209114.939344</td>\n",
       "      <td>236677.350008</td>\n",
       "      <td>261505.064555</td>\n",
       "      <td>273536.793794</td>\n",
       "      <td>...</td>\n",
       "      <td>0.111924</td>\n",
       "      <td>-0.210396</td>\n",
       "      <td>-0.238854</td>\n",
       "      <td>-0.115167</td>\n",
       "      <td>0.079646</td>\n",
       "      <td>0.073314</td>\n",
       "      <td>-0.462555</td>\n",
       "      <td>-0.386892</td>\n",
       "      <td>-0.578488</td>\n",
       "      <td>0.102662</td>\n",
       "    </tr>\n",
       "    <tr>\n",
       "      <th>2</th>\n",
       "      <td>Albuquerque, NM</td>\n",
       "      <td>153614.067350</td>\n",
       "      <td>217307.128563</td>\n",
       "      <td>176385.233331</td>\n",
       "      <td>217688.747552</td>\n",
       "      <td>232045.227078</td>\n",
       "      <td>252210.767909</td>\n",
       "      <td>289339.415054</td>\n",
       "      <td>330667.677020</td>\n",
       "      <td>332603.579518</td>\n",
       "      <td>...</td>\n",
       "      <td>-0.406599</td>\n",
       "      <td>-0.032004</td>\n",
       "      <td>-0.136764</td>\n",
       "      <td>-0.332168</td>\n",
       "      <td>0.471963</td>\n",
       "      <td>0.451613</td>\n",
       "      <td>-0.237288</td>\n",
       "      <td>0.273560</td>\n",
       "      <td>0.073951</td>\n",
       "      <td>0.239490</td>\n",
       "    </tr>\n",
       "    <tr>\n",
       "      <th>3</th>\n",
       "      <td>Allentown-Bethlehem-Easton, PA-NJ</td>\n",
       "      <td>157565.682766</td>\n",
       "      <td>217300.098031</td>\n",
       "      <td>166884.227880</td>\n",
       "      <td>191237.676263</td>\n",
       "      <td>197984.948776</td>\n",
       "      <td>211334.608340</td>\n",
       "      <td>244413.855307</td>\n",
       "      <td>275745.683202</td>\n",
       "      <td>290579.795955</td>\n",
       "      <td>...</td>\n",
       "      <td>-0.220318</td>\n",
       "      <td>-0.183163</td>\n",
       "      <td>-0.292251</td>\n",
       "      <td>-0.429299</td>\n",
       "      <td>0.183206</td>\n",
       "      <td>0.087719</td>\n",
       "      <td>-0.645714</td>\n",
       "      <td>-0.167598</td>\n",
       "      <td>-0.096970</td>\n",
       "      <td>0.405660</td>\n",
       "    </tr>\n",
       "    <tr>\n",
       "      <th>4</th>\n",
       "      <td>Bakersfield, CA</td>\n",
       "      <td>112182.456055</td>\n",
       "      <td>175117.570738</td>\n",
       "      <td>126136.953539</td>\n",
       "      <td>185787.872877</td>\n",
       "      <td>197040.032884</td>\n",
       "      <td>209423.737718</td>\n",
       "      <td>245103.109015</td>\n",
       "      <td>281410.581969</td>\n",
       "      <td>284636.817264</td>\n",
       "      <td>...</td>\n",
       "      <td>-0.293087</td>\n",
       "      <td>-0.125573</td>\n",
       "      <td>-0.021591</td>\n",
       "      <td>-0.141293</td>\n",
       "      <td>0.438806</td>\n",
       "      <td>0.746377</td>\n",
       "      <td>-0.357333</td>\n",
       "      <td>-0.245325</td>\n",
       "      <td>-0.035162</td>\n",
       "      <td>0.573394</td>\n",
       "    </tr>\n",
       "  </tbody>\n",
       "</table>\n",
       "<p>5 rows × 71 columns</p>\n",
       "</div>"
      ],
      "text/plain": [
       "                               Metro      ZHVI 2003      ZHVI 2008  \\\n",
       "0                          Akron, OH  132406.025613  138032.298044   \n",
       "1        Albany-Schenectady-Troy, NY  123799.200965  182663.903262   \n",
       "2                    Albuquerque, NM  153614.067350  217307.128563   \n",
       "3  Allentown-Bethlehem-Easton, PA-NJ  157565.682766  217300.098031   \n",
       "4                    Bakersfield, CA  112182.456055  175117.570738   \n",
       "\n",
       "       ZHVI 2013      ZHVI 2018      ZHVI 2019      ZHVI 2020      ZHVI 2021  \\\n",
       "0  119325.739327  145478.219083  153220.647431  162116.686062  184312.604016   \n",
       "1  170404.858799  192121.561367  198562.402767  209114.939344  236677.350008   \n",
       "2  176385.233331  217688.747552  232045.227078  252210.767909  289339.415054   \n",
       "3  166884.227880  191237.676263  197984.948776  211334.608340  244413.855307   \n",
       "4  126136.953539  185787.872877  197040.032884  209423.737718  245103.109015   \n",
       "\n",
       "       ZHVI 2022      ZHVI 2023  ...  3yr pct change Sales  \\\n",
       "0  202026.064127  210599.278112  ...             -0.191732   \n",
       "1  261505.064555  273536.793794  ...              0.111924   \n",
       "2  330667.677020  332603.579518  ...             -0.406599   \n",
       "3  275745.683202  290579.795955  ...             -0.220318   \n",
       "4  281410.581969  284636.817264  ...             -0.293087   \n",
       "\n",
       "   1yr pct change Sale Listings  2yr pct change Sale Listings  \\\n",
       "0                     -0.125733                     -0.166561   \n",
       "1                     -0.210396                     -0.238854   \n",
       "2                     -0.032004                     -0.136764   \n",
       "3                     -0.183163                     -0.292251   \n",
       "4                     -0.125573                     -0.021591   \n",
       "\n",
       "   3yr pct change Sale Listings  1yr pct change Days on Market  \\\n",
       "0                     -0.406540                       0.227848   \n",
       "1                     -0.115167                       0.079646   \n",
       "2                     -0.332168                       0.471963   \n",
       "3                     -0.429299                       0.183206   \n",
       "4                     -0.141293                       0.438806   \n",
       "\n",
       "   2yr pct change Days on Market  3yr pct change Days on Market  \\\n",
       "0                       0.069853                      -0.498276   \n",
       "1                       0.073314                      -0.462555   \n",
       "2                       0.451613                      -0.237288   \n",
       "3                       0.087719                      -0.645714   \n",
       "4                       0.746377                      -0.357333   \n",
       "\n",
       "   1yr pct change New Construction  2yr pct change New Construction  \\\n",
       "0                        -0.575820                        -0.191406   \n",
       "1                        -0.386892                        -0.578488   \n",
       "2                         0.273560                         0.073951   \n",
       "3                        -0.167598                        -0.096970   \n",
       "4                        -0.245325                        -0.035162   \n",
       "\n",
       "   3yr pct change New Construction  \n",
       "0                         0.101064  \n",
       "1                         0.102662  \n",
       "2                         0.239490  \n",
       "3                         0.405660  \n",
       "4                         0.573394  \n",
       "\n",
       "[5 rows x 71 columns]"
      ]
     },
     "execution_count": 21,
     "metadata": {},
     "output_type": "execute_result"
    }
   ],
   "source": [
    "metro_df.head(5)"
   ]
  },
  {
   "cell_type": "code",
   "execution_count": 22,
   "metadata": {},
   "outputs": [
    {
     "data": {
      "text/html": [
       "<div>\n",
       "<style scoped>\n",
       "    .dataframe tbody tr th:only-of-type {\n",
       "        vertical-align: middle;\n",
       "    }\n",
       "\n",
       "    .dataframe tbody tr th {\n",
       "        vertical-align: top;\n",
       "    }\n",
       "\n",
       "    .dataframe thead th {\n",
       "        text-align: right;\n",
       "    }\n",
       "</style>\n",
       "<table border=\"1\" class=\"dataframe\">\n",
       "  <thead>\n",
       "    <tr style=\"text-align: right;\">\n",
       "      <th></th>\n",
       "      <th>ZORI 2023</th>\n",
       "      <th>ZHVI 2023</th>\n",
       "      <th>ZHVF 2025-01-31</th>\n",
       "      <th>Transit Score</th>\n",
       "      <th>NatWalkInd</th>\n",
       "      <th>3yr pct change ZHVI</th>\n",
       "      <th>3yr pct change ZORI</th>\n",
       "      <th>3yr pct change Sale Listings</th>\n",
       "      <th>3yr pct change Sales</th>\n",
       "      <th>3yr pct change Days on Market</th>\n",
       "      <th>3yr pct change New Construction</th>\n",
       "    </tr>\n",
       "  </thead>\n",
       "  <tbody>\n",
       "    <tr>\n",
       "      <th>0</th>\n",
       "      <td>1103.939980</td>\n",
       "      <td>210599.278112</td>\n",
       "      <td>3.675000</td>\n",
       "      <td>3.916000</td>\n",
       "      <td>7.322482</td>\n",
       "      <td>0.315126</td>\n",
       "      <td>0.333617</td>\n",
       "      <td>-0.406540</td>\n",
       "      <td>-0.191732</td>\n",
       "      <td>-0.498276</td>\n",
       "      <td>0.101064</td>\n",
       "    </tr>\n",
       "    <tr>\n",
       "      <th>1</th>\n",
       "      <td>1484.009934</td>\n",
       "      <td>273536.793794</td>\n",
       "      <td>2.793519</td>\n",
       "      <td>7.169565</td>\n",
       "      <td>9.425807</td>\n",
       "      <td>0.314351</td>\n",
       "      <td>0.267277</td>\n",
       "      <td>-0.115167</td>\n",
       "      <td>0.111924</td>\n",
       "      <td>-0.462555</td>\n",
       "      <td>0.102662</td>\n",
       "    </tr>\n",
       "    <tr>\n",
       "      <th>2</th>\n",
       "      <td>1422.114358</td>\n",
       "      <td>332603.579518</td>\n",
       "      <td>4.502632</td>\n",
       "      <td>4.220000</td>\n",
       "      <td>9.801242</td>\n",
       "      <td>0.382758</td>\n",
       "      <td>0.400106</td>\n",
       "      <td>-0.332168</td>\n",
       "      <td>-0.406599</td>\n",
       "      <td>-0.237288</td>\n",
       "      <td>0.239490</td>\n",
       "    </tr>\n",
       "    <tr>\n",
       "      <th>3</th>\n",
       "      <td>1725.067053</td>\n",
       "      <td>290579.795955</td>\n",
       "      <td>4.745614</td>\n",
       "      <td>5.553333</td>\n",
       "      <td>11.154506</td>\n",
       "      <td>0.401992</td>\n",
       "      <td>0.313419</td>\n",
       "      <td>-0.429299</td>\n",
       "      <td>-0.220318</td>\n",
       "      <td>-0.645714</td>\n",
       "      <td>0.405660</td>\n",
       "    </tr>\n",
       "    <tr>\n",
       "      <th>4</th>\n",
       "      <td>1699.626557</td>\n",
       "      <td>284636.817264</td>\n",
       "      <td>3.970000</td>\n",
       "      <td>3.029412</td>\n",
       "      <td>10.323099</td>\n",
       "      <td>0.362813</td>\n",
       "      <td>0.287336</td>\n",
       "      <td>-0.141293</td>\n",
       "      <td>-0.293087</td>\n",
       "      <td>-0.357333</td>\n",
       "      <td>0.573394</td>\n",
       "    </tr>\n",
       "  </tbody>\n",
       "</table>\n",
       "</div>"
      ],
      "text/plain": [
       "     ZORI 2023      ZHVI 2023  ZHVF 2025-01-31  Transit Score  NatWalkInd  \\\n",
       "0  1103.939980  210599.278112         3.675000       3.916000    7.322482   \n",
       "1  1484.009934  273536.793794         2.793519       7.169565    9.425807   \n",
       "2  1422.114358  332603.579518         4.502632       4.220000    9.801242   \n",
       "3  1725.067053  290579.795955         4.745614       5.553333   11.154506   \n",
       "4  1699.626557  284636.817264         3.970000       3.029412   10.323099   \n",
       "\n",
       "   3yr pct change ZHVI  3yr pct change ZORI  3yr pct change Sale Listings  \\\n",
       "0             0.315126             0.333617                     -0.406540   \n",
       "1             0.314351             0.267277                     -0.115167   \n",
       "2             0.382758             0.400106                     -0.332168   \n",
       "3             0.401992             0.313419                     -0.429299   \n",
       "4             0.362813             0.287336                     -0.141293   \n",
       "\n",
       "   3yr pct change Sales  3yr pct change Days on Market  \\\n",
       "0             -0.191732                      -0.498276   \n",
       "1              0.111924                      -0.462555   \n",
       "2             -0.406599                      -0.237288   \n",
       "3             -0.220318                      -0.645714   \n",
       "4             -0.293087                      -0.357333   \n",
       "\n",
       "   3yr pct change New Construction  \n",
       "0                         0.101064  \n",
       "1                         0.102662  \n",
       "2                         0.239490  \n",
       "3                         0.405660  \n",
       "4                         0.573394  "
      ]
     },
     "execution_count": 22,
     "metadata": {},
     "output_type": "execute_result"
    }
   ],
   "source": [
    "met_sel_feat.head(5)"
   ]
  },
  {
   "cell_type": "code",
   "execution_count": 23,
   "metadata": {},
   "outputs": [
    {
     "name": "stdout",
     "output_type": "stream",
     "text": [
      "<class 'pandas.core.frame.DataFrame'>\n",
      "Index: 66 entries, 0 to 79\n",
      "Data columns (total 11 columns):\n",
      " #   Column                           Non-Null Count  Dtype  \n",
      "---  ------                           --------------  -----  \n",
      " 0   ZORI 2023                        66 non-null     float64\n",
      " 1   ZHVI 2023                        66 non-null     float64\n",
      " 2   ZHVF 2025-01-31                  66 non-null     float64\n",
      " 3   Transit Score                    66 non-null     float64\n",
      " 4   NatWalkInd                       66 non-null     float64\n",
      " 5   3yr pct change ZHVI              66 non-null     float64\n",
      " 6   3yr pct change ZORI              66 non-null     float64\n",
      " 7   3yr pct change Sale Listings     66 non-null     float64\n",
      " 8   3yr pct change Sales             66 non-null     float64\n",
      " 9   3yr pct change Days on Market    66 non-null     float64\n",
      " 10  3yr pct change New Construction  66 non-null     float64\n",
      "dtypes: float64(11)\n",
      "memory usage: 6.2 KB\n"
     ]
    }
   ],
   "source": [
    "met_sel_feat.info()"
   ]
  },
  {
   "cell_type": "code",
   "execution_count": 24,
   "metadata": {},
   "outputs": [],
   "source": [
    "scaler = StandardScaler()\n",
    "scaled_sf = scaler.fit_transform(sel_feat)\n",
    "scaled_met_sf = scaler.fit_transform(met_sel_feat)"
   ]
  },
  {
   "cell_type": "markdown",
   "metadata": {},
   "source": [
    "## County Level"
   ]
  },
  {
   "cell_type": "markdown",
   "metadata": {},
   "source": [
    "### KMeans"
   ]
  },
  {
   "cell_type": "code",
   "execution_count": 32,
   "metadata": {},
   "outputs": [],
   "source": [
    "km_models = [None, None]\n",
    "km_sils = [None, None]\n",
    "km_labels = [None, None]\n",
    "km_cluster_sils = [None, None]\n",
    "km_inertias = [None, None]\n",
    "for x in range(2, 11):\n",
    "    model = KMeans(n_clusters=x, init='random', n_init='auto', random_state=50)\n",
    "    model.fit(scaled_sf)\n",
    "    km_models.append(model)\n",
    "    km_labels.append(model.labels_)\n",
    "    km_sils.append(silhouette_score(scaled_sf, km_labels[x], metric='cosine'))\n",
    "    km_cluster_sils.append(silhouette_samples(scaled_sf, km_labels[x], metric='cosine'))\n",
    "    km_inertias.append(model.inertia_)"
   ]
  },
  {
   "cell_type": "markdown",
   "metadata": {},
   "source": [
    "Elbow method"
   ]
  },
  {
   "cell_type": "code",
   "execution_count": 37,
   "metadata": {},
   "outputs": [
    {
     "data": {
      "text/plain": [
       "<AxesSubplot:>"
      ]
     },
     "execution_count": 37,
     "metadata": {},
     "output_type": "execute_result"
    },
    {
     "data": {
      "image/png": "[encoded data removed]",
      "text/plain": [
       "<Figure size 640x480 with 1 Axes>"
      ]
     },
     "metadata": {},
     "output_type": "display_data"
    }
   ],
   "source": [
    "sns.lineplot(x=list(range(2, 11)), y=km_inertias[2:])"
   ]
  },
  {
   "cell_type": "code",
   "execution_count": 39,
   "metadata": {},
   "outputs": [
    {
     "data": {
      "text/plain": [
       "<AxesSubplot:>"
      ]
     },
     "execution_count": 39,
     "metadata": {},
     "output_type": "execute_result"
    },
    {
     "data": {
      "image/png": "[encoded data removed]",
      "text/plain": [
       "<Figure size 640x480 with 1 Axes>"
      ]
     },
     "metadata": {},
     "output_type": "display_data"
    }
   ],
   "source": [
    "sns.barplot(x=list(range(2, 11)), y=km_sils[2:])"
   ]
  },
  {
   "cell_type": "code",
   "execution_count": 43,
   "metadata": {},
   "outputs": [
    {
     "name": "stdout",
     "output_type": "stream",
     "text": [
      "km2cluster\n",
      "1    85\n",
      "0    53\n",
      "Name: count, dtype: int64\n",
      "\n",
      "km3cluster\n",
      "2    66\n",
      "1    40\n",
      "0    32\n",
      "Name: count, dtype: int64\n",
      "\n",
      "km4cluster\n",
      "0    63\n",
      "3    37\n",
      "1    23\n",
      "2    15\n",
      "Name: count, dtype: int64\n",
      "\n",
      "km5cluster\n",
      "1    41\n",
      "2    31\n",
      "3    27\n",
      "0    21\n",
      "4    18\n",
      "Name: count, dtype: int64\n",
      "\n",
      "km6cluster\n",
      "0    36\n",
      "4    33\n",
      "3    22\n",
      "2    17\n",
      "5    15\n",
      "1    15\n",
      "Name: count, dtype: int64\n",
      "\n",
      "km7cluster\n",
      "3    33\n",
      "0    30\n",
      "1    22\n",
      "2    21\n",
      "6    15\n",
      "4    12\n",
      "5     5\n",
      "Name: count, dtype: int64\n",
      "\n",
      "km8cluster\n",
      "0    32\n",
      "7    23\n",
      "5    22\n",
      "6    21\n",
      "4    18\n",
      "2    18\n",
      "1     3\n",
      "3     1\n",
      "Name: count, dtype: int64\n",
      "\n",
      "km9cluster\n",
      "3    28\n",
      "0    20\n",
      "5    19\n",
      "2    18\n",
      "4    16\n",
      "7    12\n",
      "1    12\n",
      "6     8\n",
      "8     5\n",
      "Name: count, dtype: int64\n",
      "\n",
      "km10cluster\n",
      "8    29\n",
      "1    26\n",
      "9    23\n",
      "7    18\n",
      "6    15\n",
      "3    10\n",
      "2     6\n",
      "0     6\n",
      "4     3\n",
      "5     2\n",
      "Name: count, dtype: int64\n",
      "\n"
     ]
    }
   ],
   "source": [
    "for x in range(2, 11):\n",
    "    sel_feat['km'+str(x)+'cluster'] = km_labels[x]\n",
    "    print(sel_feat['km'+str(x)+'cluster'].value_counts())\n",
    "    print()"
   ]
  },
  {
   "cell_type": "code",
   "execution_count": 44,
   "metadata": {},
   "outputs": [
    {
     "data": {
      "text/plain": [
       "<AxesSubplot:xlabel='ZHVF 2025-01-31', ylabel='Count'>"
      ]
     },
     "execution_count": 44,
     "metadata": {},
     "output_type": "execute_result"
    },
    {
     "data": {
      "image/png": "[encoded data removed]",
      "text/plain": [
       "<Figure size 640x480 with 1 Axes>"
      ]
     },
     "metadata": {},
     "output_type": "display_data"
    }
   ],
   "source": [
    "sns.histplot(data=sel_feat, x='ZHVF 2025-01-31', hue='km3cluster', element='poly', palette='bright')"
   ]
  },
  {
   "cell_type": "code",
   "execution_count": 45,
   "metadata": {},
   "outputs": [
    {
     "data": {
      "text/plain": [
       "<AxesSubplot:xlabel='ZHVF 2025-01-31', ylabel='Count'>"
      ]
     },
     "execution_count": 45,
     "metadata": {},
     "output_type": "execute_result"
    },
    {
     "data": {
      "image/png": "[encoded data removed]",
      "text/plain": [
       "<Figure size 640x480 with 1 Axes>"
      ]
     },
     "metadata": {},
     "output_type": "display_data"
    }
   ],
   "source": [
    "sns.histplot(data=sel_feat, x='ZHVF 2025-01-31', hue='km4cluster', element='poly', palette='bright')"
   ]
  },
  {
   "cell_type": "code",
   "execution_count": 46,
   "metadata": {},
   "outputs": [
    {
     "data": {
      "text/plain": [
       "<AxesSubplot:xlabel='ZHVF 2025-01-31', ylabel='Count'>"
      ]
     },
     "execution_count": 46,
     "metadata": {},
     "output_type": "execute_result"
    },
    {
     "data": {
      "image/png": "[encoded data removed]",
      "text/plain": [
       "<Figure size 640x480 with 1 Axes>"
      ]
     },
     "metadata": {},
     "output_type": "display_data"
    }
   ],
   "source": [
    "sns.histplot(data=sel_feat, x='ZHVF 2025-01-31', hue='km5cluster', element='poly', palette='bright')"
   ]
  },
  {
   "cell_type": "code",
   "execution_count": 47,
   "metadata": {},
   "outputs": [
    {
     "data": {
      "text/plain": [
       "<AxesSubplot:xlabel='ZHVF 2025-01-31', ylabel='Count'>"
      ]
     },
     "execution_count": 47,
     "metadata": {},
     "output_type": "execute_result"
    },
    {
     "data": {
      "image/png": "[encoded data removed]",
      "text/plain": [
       "<Figure size 640x480 with 1 Axes>"
      ]
     },
     "metadata": {},
     "output_type": "display_data"
    }
   ],
   "source": [
    "sns.histplot(data=sel_feat, x='ZHVF 2025-01-31', hue='km6cluster', element='poly', palette='bright')"
   ]
  },
  {
   "cell_type": "code",
   "execution_count": null,
   "metadata": {},
   "outputs": [],
   "source": []
  },
  {
   "cell_type": "markdown",
   "metadata": {},
   "source": [
    "### Hierarchical"
   ]
  },
  {
   "cell_type": "code",
   "execution_count": 51,
   "metadata": {},
   "outputs": [],
   "source": [
    "agg_models = [None, None]\n",
    "agg_sils = [None, None]\n",
    "agg_labels = [None, None]\n",
    "agg_cluster_sils = [None, None]\n",
    "\n",
    "for x in range(2, 11):\n",
    "    model = AgglomerativeClustering(n_clusters=x)\n",
    "    model.fit(scaled_sf)\n",
    "    agg_models.append(model)\n",
    "    agg_labels.append(model.labels_)\n",
    "    agg_sils.append(silhouette_score(scaled_sf, agg_labels[x], metric='cosine'))\n",
    "    agg_cluster_sils.append(silhouette_samples(scaled_sf, agg_labels[x], metric='cosine'))"
   ]
  },
  {
   "cell_type": "code",
   "execution_count": 52,
   "metadata": {},
   "outputs": [
    {
     "data": {
      "text/plain": [
       "<AxesSubplot:>"
      ]
     },
     "execution_count": 52,
     "metadata": {},
     "output_type": "execute_result"
    },
    {
     "data": {
      "image/png": "[encoded data removed]",
      "text/plain": [
       "<Figure size 640x480 with 1 Axes>"
      ]
     },
     "metadata": {},
     "output_type": "display_data"
    }
   ],
   "source": [
    "sns.barplot(x=list(range(2, 11)), y=agg_sils[2:])"
   ]
  },
  {
   "cell_type": "code",
   "execution_count": 53,
   "metadata": {},
   "outputs": [
    {
     "name": "stdout",
     "output_type": "stream",
     "text": [
      "agg2cluster\n",
      "0    120\n",
      "1     18\n",
      "Name: count, dtype: int64\n",
      "\n",
      "agg3cluster\n",
      "2    70\n",
      "0    50\n",
      "1    18\n",
      "Name: count, dtype: int64\n",
      "\n",
      "agg4cluster\n",
      "0    70\n",
      "1    30\n",
      "2    20\n",
      "3    18\n",
      "Name: count, dtype: int64\n",
      "\n",
      "agg5cluster\n",
      "0    55\n",
      "1    30\n",
      "2    20\n",
      "3    18\n",
      "4    15\n",
      "Name: count, dtype: int64\n",
      "\n",
      "agg6cluster\n",
      "0    51\n",
      "1    30\n",
      "2    20\n",
      "3    18\n",
      "4    15\n",
      "5     4\n",
      "Name: count, dtype: int64\n",
      "\n",
      "agg7cluster\n",
      "1    30\n",
      "5    29\n",
      "6    22\n",
      "0    20\n",
      "3    18\n",
      "4    15\n",
      "2     4\n",
      "Name: count, dtype: int64\n",
      "\n",
      "agg8cluster\n",
      "1    30\n",
      "2    29\n",
      "6    22\n",
      "3    18\n",
      "4    15\n",
      "7    14\n",
      "5     6\n",
      "0     4\n",
      "Name: count, dtype: int64\n",
      "\n",
      "agg9cluster\n",
      "0    30\n",
      "2    29\n",
      "6    22\n",
      "3    18\n",
      "1    15\n",
      "7    14\n",
      "5     6\n",
      "4     3\n",
      "8     1\n",
      "Name: count, dtype: int64\n",
      "\n",
      "agg10cluster\n",
      "2    29\n",
      "3    22\n",
      "6    22\n",
      "1    18\n",
      "0    15\n",
      "7    14\n",
      "4     8\n",
      "5     6\n",
      "9     3\n",
      "8     1\n",
      "Name: count, dtype: int64\n",
      "\n"
     ]
    }
   ],
   "source": [
    "for x in range(2, 11):\n",
    "    sel_feat['agg'+str(x)+'cluster'] = agg_labels[x]\n",
    "    print(sel_feat['agg'+str(x)+'cluster'].value_counts())\n",
    "    print()"
   ]
  },
  {
   "cell_type": "code",
   "execution_count": 54,
   "metadata": {},
   "outputs": [
    {
     "data": {
      "text/plain": [
       "<AxesSubplot:xlabel='ZHVF 2025-01-31', ylabel='Count'>"
      ]
     },
     "execution_count": 54,
     "metadata": {},
     "output_type": "execute_result"
    },
    {
     "data": {
      "image/png": "[encoded data removed]",
      "text/plain": [
       "<Figure size 640x480 with 1 Axes>"
      ]
     },
     "metadata": {},
     "output_type": "display_data"
    }
   ],
   "source": [
    "sns.histplot(data=sel_feat, x='ZHVF 2025-01-31', hue='agg4cluster', element='poly', palette='bright')"
   ]
  },
  {
   "cell_type": "code",
   "execution_count": null,
   "metadata": {},
   "outputs": [],
   "source": []
  },
  {
   "cell_type": "markdown",
   "metadata": {},
   "source": [
    "## Metro Level"
   ]
  },
  {
   "cell_type": "markdown",
   "metadata": {},
   "source": [
    "### KMeans"
   ]
  },
  {
   "cell_type": "code",
   "execution_count": 56,
   "metadata": {},
   "outputs": [],
   "source": [
    "met_km_models = [None, None]\n",
    "met_km_sils = [None, None]\n",
    "met_km_labels = [None, None]\n",
    "met_km_cluster_sils = [None, None]\n",
    "met_km_inertias = [None, None]\n",
    "for x in range(2, 11):\n",
    "    model = KMeans(n_clusters=x, init='random', n_init='auto', random_state=50)\n",
    "    model.fit(scaled_met_sf)\n",
    "    met_km_models.append(model)\n",
    "    met_km_labels.append(model.labels_)\n",
    "    met_km_sils.append(silhouette_score(scaled_met_sf, met_km_labels[x], metric='cosine'))\n",
    "    met_km_cluster_sils.append(silhouette_samples(scaled_met_sf, met_km_labels[x], metric='cosine'))\n",
    "    met_km_inertias.append(model.inertia_)"
   ]
  },
  {
   "cell_type": "markdown",
   "metadata": {},
   "source": [
    "Elbow method"
   ]
  },
  {
   "cell_type": "code",
   "execution_count": 57,
   "metadata": {},
   "outputs": [
    {
     "data": {
      "text/plain": [
       "<AxesSubplot:>"
      ]
     },
     "execution_count": 57,
     "metadata": {},
     "output_type": "execute_result"
    },
    {
     "data": {
      "image/png": "[encoded data removed]",
      "text/plain": [
       "<Figure size 640x480 with 1 Axes>"
      ]
     },
     "metadata": {},
     "output_type": "display_data"
    }
   ],
   "source": [
    "sns.lineplot(x=list(range(2, 11)), y=met_km_inertias[2:])"
   ]
  },
  {
   "cell_type": "code",
   "execution_count": 58,
   "metadata": {},
   "outputs": [
    {
     "data": {
      "text/plain": [
       "<AxesSubplot:>"
      ]
     },
     "execution_count": 58,
     "metadata": {},
     "output_type": "execute_result"
    },
    {
     "data": {
      "image/png": "[encoded data removed]",
      "text/plain": [
       "<Figure size 640x480 with 1 Axes>"
      ]
     },
     "metadata": {},
     "output_type": "display_data"
    }
   ],
   "source": [
    "sns.barplot(x=list(range(2, 11)), y=met_km_sils[2:])"
   ]
  },
  {
   "cell_type": "code",
   "execution_count": 59,
   "metadata": {},
   "outputs": [
    {
     "name": "stdout",
     "output_type": "stream",
     "text": [
      "km2cluster\n",
      "1    37\n",
      "0    29\n",
      "Name: count, dtype: int64\n",
      "\n",
      "km3cluster\n",
      "0    39\n",
      "2    19\n",
      "1     8\n",
      "Name: count, dtype: int64\n",
      "\n",
      "km4cluster\n",
      "2    34\n",
      "1    14\n",
      "0    13\n",
      "3     5\n",
      "Name: count, dtype: int64\n",
      "\n",
      "km5cluster\n",
      "1    24\n",
      "3    15\n",
      "4    13\n",
      "2    11\n",
      "0     3\n",
      "Name: count, dtype: int64\n",
      "\n",
      "km6cluster\n",
      "3    17\n",
      "0    12\n",
      "5    12\n",
      "1    11\n",
      "2    11\n",
      "4     3\n",
      "Name: count, dtype: int64\n",
      "\n",
      "km7cluster\n",
      "6    20\n",
      "5    16\n",
      "2    11\n",
      "1    10\n",
      "4     4\n",
      "0     3\n",
      "3     2\n",
      "Name: count, dtype: int64\n",
      "\n",
      "km8cluster\n",
      "7    17\n",
      "6    12\n",
      "3    11\n",
      "2    10\n",
      "1     6\n",
      "5     5\n",
      "0     3\n",
      "4     2\n",
      "Name: count, dtype: int64\n",
      "\n",
      "km9cluster\n",
      "5    15\n",
      "3    13\n",
      "1    11\n",
      "0     8\n",
      "4     5\n",
      "7     4\n",
      "2     4\n",
      "8     3\n",
      "6     3\n",
      "Name: count, dtype: int64\n",
      "\n",
      "km10cluster\n",
      "7    13\n",
      "8    12\n",
      "0    10\n",
      "4     7\n",
      "3     6\n",
      "9     5\n",
      "1     5\n",
      "6     4\n",
      "5     2\n",
      "2     2\n",
      "Name: count, dtype: int64\n",
      "\n"
     ]
    }
   ],
   "source": [
    "for x in range(2, 11):\n",
    "    met_sel_feat['km'+str(x)+'cluster'] = met_km_labels[x]\n",
    "    print(met_sel_feat['km'+str(x)+'cluster'].value_counts())\n",
    "    print()"
   ]
  },
  {
   "cell_type": "code",
   "execution_count": null,
   "metadata": {},
   "outputs": [],
   "source": []
  },
  {
   "cell_type": "markdown",
   "metadata": {},
   "source": [
    "### Hierarchical"
   ]
  },
  {
   "cell_type": "code",
   "execution_count": 61,
   "metadata": {},
   "outputs": [],
   "source": [
    "met_agg_models = [None, None]\n",
    "met_agg_sils = [None, None]\n",
    "met_agg_labels = [None, None]\n",
    "met_agg_cluster_sils = [None, None]\n",
    "\n",
    "for x in range(2, 11):\n",
    "    model = AgglomerativeClustering(n_clusters=x)\n",
    "    model.fit(scaled_met_sf)\n",
    "    met_agg_models.append(model)\n",
    "    met_agg_labels.append(model.labels_)\n",
    "    met_agg_sils.append(silhouette_score(scaled_met_sf, met_agg_labels[x], metric='cosine'))\n",
    "    met_agg_cluster_sils.append(silhouette_samples(scaled_met_sf, met_agg_labels[x], metric='cosine'))"
   ]
  },
  {
   "cell_type": "code",
   "execution_count": 62,
   "metadata": {},
   "outputs": [
    {
     "data": {
      "text/plain": [
       "<AxesSubplot:>"
      ]
     },
     "execution_count": 62,
     "metadata": {},
     "output_type": "execute_result"
    },
    {
     "data": {
      "image/png": "[encoded data removed]",
      "text/plain": [
       "<Figure size 640x480 with 1 Axes>"
      ]
     },
     "metadata": {},
     "output_type": "display_data"
    }
   ],
   "source": [
    "sns.barplot(x=list(range(2, 11)), y=met_agg_sils[2:])"
   ]
  },
  {
   "cell_type": "code",
   "execution_count": 63,
   "metadata": {},
   "outputs": [
    {
     "name": "stdout",
     "output_type": "stream",
     "text": [
      "agg2cluster\n",
      "0    39\n",
      "1    27\n",
      "Name: count, dtype: int64\n",
      "\n",
      "agg3cluster\n",
      "2    29\n",
      "0    27\n",
      "1    10\n",
      "Name: count, dtype: int64\n",
      "\n",
      "agg4cluster\n",
      "2    29\n",
      "3    23\n",
      "0    10\n",
      "1     4\n",
      "Name: count, dtype: int64\n",
      "\n",
      "agg5cluster\n",
      "2    29\n",
      "1    23\n",
      "3     8\n",
      "0     4\n",
      "4     2\n",
      "Name: count, dtype: int64\n",
      "\n",
      "agg6cluster\n",
      "2    29\n",
      "0    23\n",
      "1     8\n",
      "3     3\n",
      "4     2\n",
      "5     1\n",
      "Name: count, dtype: int64\n",
      "\n",
      "agg7cluster\n",
      "0    29\n",
      "6    16\n",
      "1     8\n",
      "2     7\n",
      "3     3\n",
      "4     2\n",
      "5     1\n",
      "Name: count, dtype: int64\n",
      "\n",
      "agg8cluster\n",
      "1    20\n",
      "6    16\n",
      "3     9\n",
      "0     8\n",
      "2     7\n",
      "7     3\n",
      "4     2\n",
      "5     1\n",
      "Name: count, dtype: int64\n",
      "\n",
      "agg9cluster\n",
      "1    20\n",
      "2    16\n",
      "3     9\n",
      "0     7\n",
      "6     5\n",
      "8     3\n",
      "7     3\n",
      "4     2\n",
      "5     1\n",
      "Name: count, dtype: int64\n",
      "\n",
      "agg10cluster\n",
      "0    20\n",
      "2    16\n",
      "3     9\n",
      "4     6\n",
      "6     5\n",
      "8     3\n",
      "7     3\n",
      "1     2\n",
      "9     1\n",
      "5     1\n",
      "Name: count, dtype: int64\n",
      "\n"
     ]
    }
   ],
   "source": [
    "for x in range(2, 11):\n",
    "    met_sel_feat['agg'+str(x)+'cluster'] = met_agg_labels[x]\n",
    "    print(met_sel_feat['agg'+str(x)+'cluster'].value_counts())\n",
    "    print()"
   ]
  },
  {
   "cell_type": "markdown",
   "metadata": {},
   "source": [
    "## Comparing KMeans and Hierarchical Clusters at County Level"
   ]
  },
  {
   "cell_type": "code",
   "execution_count": 68,
   "metadata": {},
   "outputs": [
    {
     "data": {
      "text/plain": [
       "Index(['3yr pct change Days on Market', '3yr pct change New Construction',\n",
       "       'km2cluster_y', 'km3cluster_y', 'km4cluster_y', 'km5cluster_y',\n",
       "       'km6cluster_y', 'km7cluster_y', 'km8cluster_y', 'km9cluster_y',\n",
       "       'km10cluster_y', 'agg2cluster_y', 'agg3cluster_y', 'agg4cluster_y',\n",
       "       'agg5cluster_y', 'agg6cluster_y', 'agg7cluster_y', 'agg8cluster_y',\n",
       "       'agg9cluster_y', 'agg10cluster_y'],\n",
       "      dtype='object')"
      ]
     },
     "execution_count": 68,
     "metadata": {},
     "output_type": "execute_result"
    }
   ],
   "source": [
    "df = pd.merge(df, sel_feat, left_index=True, right_index=True)\n",
    "df.columns[-20:]"
   ]
  },
  {
   "cell_type": "code",
   "execution_count": 69,
   "metadata": {},
   "outputs": [],
   "source": [
    "df = df.dropna(subset=['km2cluster_y', 'km3cluster_y', 'km4cluster_y', 'km5cluster_y',\n",
    "       'km6cluster_y', 'km7cluster_y', 'km8cluster_y', 'km9cluster_y',\n",
    "       'km10cluster_y', 'agg2cluster_y', 'agg3cluster_y', 'agg4cluster_y',\n",
    "       'agg5cluster_y', 'agg6cluster_y', 'agg7cluster_y', 'agg8cluster_y',\n",
    "       'agg9cluster_y', 'agg10cluster_y'])"
   ]
  },
  {
   "cell_type": "code",
   "execution_count": 71,
   "metadata": {},
   "outputs": [
    {
     "data": {
      "text/html": [
       "<div>\n",
       "<style scoped>\n",
       "    .dataframe tbody tr th:only-of-type {\n",
       "        vertical-align: middle;\n",
       "    }\n",
       "\n",
       "    .dataframe tbody tr th {\n",
       "        vertical-align: top;\n",
       "    }\n",
       "\n",
       "    .dataframe thead th {\n",
       "        text-align: right;\n",
       "    }\n",
       "</style>\n",
       "<table border=\"1\" class=\"dataframe\">\n",
       "  <thead>\n",
       "    <tr style=\"text-align: right;\">\n",
       "      <th></th>\n",
       "      <th>State</th>\n",
       "      <th>CountyName</th>\n",
       "      <th>km2cluster_y</th>\n",
       "      <th>agg2cluster_y</th>\n",
       "    </tr>\n",
       "  </thead>\n",
       "  <tbody>\n",
       "    <tr>\n",
       "      <th>2</th>\n",
       "      <td>ID</td>\n",
       "      <td>Ada County</td>\n",
       "      <td>1</td>\n",
       "      <td>0</td>\n",
       "    </tr>\n",
       "    <tr>\n",
       "      <th>6</th>\n",
       "      <td>CO</td>\n",
       "      <td>Adams County</td>\n",
       "      <td>0</td>\n",
       "      <td>0</td>\n",
       "    </tr>\n",
       "    <tr>\n",
       "      <th>15</th>\n",
       "      <td>NY</td>\n",
       "      <td>Albany County</td>\n",
       "      <td>1</td>\n",
       "      <td>0</td>\n",
       "    </tr>\n",
       "    <tr>\n",
       "      <th>24</th>\n",
       "      <td>PA</td>\n",
       "      <td>Allegheny County</td>\n",
       "      <td>0</td>\n",
       "      <td>0</td>\n",
       "    </tr>\n",
       "    <tr>\n",
       "      <th>34</th>\n",
       "      <td>MD</td>\n",
       "      <td>Anne Arundel County</td>\n",
       "      <td>0</td>\n",
       "      <td>0</td>\n",
       "    </tr>\n",
       "    <tr>\n",
       "      <th>...</th>\n",
       "      <td>...</td>\n",
       "      <td>...</td>\n",
       "      <td>...</td>\n",
       "      <td>...</td>\n",
       "    </tr>\n",
       "    <tr>\n",
       "      <th>1530</th>\n",
       "      <td>MN</td>\n",
       "      <td>Washington County</td>\n",
       "      <td>0</td>\n",
       "      <td>0</td>\n",
       "    </tr>\n",
       "    <tr>\n",
       "      <th>1534</th>\n",
       "      <td>OR</td>\n",
       "      <td>Washington County</td>\n",
       "      <td>0</td>\n",
       "      <td>0</td>\n",
       "    </tr>\n",
       "    <tr>\n",
       "      <th>1544</th>\n",
       "      <td>MI</td>\n",
       "      <td>Wayne County</td>\n",
       "      <td>1</td>\n",
       "      <td>0</td>\n",
       "    </tr>\n",
       "    <tr>\n",
       "      <th>1551</th>\n",
       "      <td>UT</td>\n",
       "      <td>Weber County</td>\n",
       "      <td>1</td>\n",
       "      <td>0</td>\n",
       "    </tr>\n",
       "    <tr>\n",
       "      <th>1560</th>\n",
       "      <td>NY</td>\n",
       "      <td>Westchester County</td>\n",
       "      <td>0</td>\n",
       "      <td>1</td>\n",
       "    </tr>\n",
       "  </tbody>\n",
       "</table>\n",
       "<p>138 rows × 4 columns</p>\n",
       "</div>"
      ],
      "text/plain": [
       "     State           CountyName  km2cluster_y  agg2cluster_y\n",
       "2       ID           Ada County             1              0\n",
       "6       CO         Adams County             0              0\n",
       "15      NY        Albany County             1              0\n",
       "24      PA     Allegheny County             0              0\n",
       "34      MD  Anne Arundel County             0              0\n",
       "...    ...                  ...           ...            ...\n",
       "1530    MN    Washington County             0              0\n",
       "1534    OR    Washington County             0              0\n",
       "1544    MI         Wayne County             1              0\n",
       "1551    UT         Weber County             1              0\n",
       "1560    NY   Westchester County             0              1\n",
       "\n",
       "[138 rows x 4 columns]"
      ]
     },
     "execution_count": 71,
     "metadata": {},
     "output_type": "execute_result"
    }
   ],
   "source": [
    "df[['State', 'CountyName', 'km2cluster_y', 'agg2cluster_y']]"
   ]
  },
  {
   "cell_type": "code",
   "execution_count": 74,
   "metadata": {},
   "outputs": [
    {
     "name": "stdout",
     "output_type": "stream",
     "text": [
      "3 clusters Jaccard Score:\n",
      "0.22123893805309736\n",
      "\n",
      "4 clusters Jaccard Score:\n",
      "0.1694915254237288\n",
      "\n",
      "5 clusters Jaccard Score:\n",
      "0.06563706563706563\n",
      "\n",
      "6 clusters Jaccard Score:\n",
      "0.09523809523809523\n",
      "\n"
     ]
    }
   ],
   "source": [
    "for x in range(3, 7):\n",
    "    print(str(x)+ ' clusters Jaccard Score:')\n",
    "    print(jaccard_score(km_labels[x], agg_labels[x], average='micro'))\n",
    "    print()"
   ]
  },
  {
   "cell_type": "code",
   "execution_count": 75,
   "metadata": {},
   "outputs": [
    {
     "name": "stdout",
     "output_type": "stream",
     "text": [
      "3 clusters Jaccard Score:\n",
      "0.18738105694627435\n",
      "\n",
      "4 clusters Jaccard Score:\n",
      "0.11241313478426881\n",
      "\n",
      "5 clusters Jaccard Score:\n",
      "0.058976833976833974\n",
      "\n",
      "6 clusters Jaccard Score:\n",
      "0.0710614921141237\n",
      "\n"
     ]
    }
   ],
   "source": [
    "for x in range(3, 7):\n",
    "    print(str(x)+ ' clusters Jaccard Score:')\n",
    "    print(jaccard_score(km_labels[x], agg_labels[x], average='macro'))\n",
    "    print()"
   ]
  },
  {
   "cell_type": "code",
   "execution_count": null,
   "metadata": {},
   "outputs": [],
   "source": []
  }
 ],
 "metadata": {
  "kernelspec": {
   "display_name": "Python 3 (ipykernel)",
   "language": "python",
   "name": "python3"
  },
  "language_info": {
   "codemirror_mode": {
    "name": "ipython",
    "version": 3
   },
   "file_extension": ".py",
   "mimetype": "text/x-python",
   "name": "python",
   "nbconvert_exporter": "python",
   "pygments_lexer": "ipython3",
   "version": "3.8.5"
  }
 },
 "nbformat": 4,
 "nbformat_minor": 4
}
